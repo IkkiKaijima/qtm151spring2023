{
 "cells": [
  {
   "attachments": {},
   "cell_type": "markdown",
   "metadata": {},
   "source": [
    "# <span style=\"color:darkblue\"> Lecture 7: Applications II - Operations with multiple datasets </span>"
   ]
  },
  {
   "attachments": {},
   "cell_type": "markdown",
   "metadata": {},
   "source": [
    "<font size=\"5\"> \n",
    "\n",
    "This class will be entirely self-directed\n",
    "\n",
    "- Learn basic commands for importing/exporting datasets\n",
    "- Practice this module's concepts in a quiz\n",
    "- More info will be posted on Canvas at the start of class\n"
   ]
  },
  {
   "attachments": {},
   "cell_type": "markdown",
   "metadata": {},
   "source": [
    "## <span style=\"color:darkblue\"> I. Import Libraries </span>"
   ]
  },
  {
   "cell_type": "code",
   "execution_count": 1,
   "metadata": {},
   "outputs": [],
   "source": [
    "# the \"numPy\" library is used for mathematical operations\n",
    "# the \"matplotlib\" library is for generating graphs\n",
    "# the \"pandas\" library is for manipualting datasets\n",
    "\n",
    "import numpy as np\n",
    "import matplotlib.pyplot as plt\n",
    "import pandas as pd"
   ]
  },
  {
   "attachments": {},
   "cell_type": "markdown",
   "metadata": {},
   "source": [
    "## <span style=\"color:darkblue\"> II. Importing / Exporting Datasets </span>"
   ]
  },
  {
   "attachments": {},
   "cell_type": "markdown",
   "metadata": {},
   "source": [
    "<font size = \"5\">\n",
    "\n",
    "There are many formats to store data out there.\n",
    "\n",
    "- So far we've only imported \".csv\" files\n",
    "- Also common: Excel (\".xlsx\") and Stata (\".dta\")\n",
    "- Pandas can handle all these formats! Full list:\n",
    "\n",
    "https://pandas.pydata.org/docs/reference/io.html#"
   ]
  },
  {
   "attachments": {},
   "cell_type": "markdown",
   "metadata": {},
   "source": [
    "<font size = \"5\" >\n",
    "\n",
    "Read/write from CSV"
   ]
  },
  {
   "cell_type": "code",
   "execution_count": 2,
   "metadata": {},
   "outputs": [],
   "source": [
    "# Import a CSV file (READ)\n",
    "carfeatures = pd.read_csv(\"/Users/ikkikaijima/Documents/SPRING 2023/QTM 151/qtm151spring2023/Lecture 07/data/features_stored.csv\")\n",
    "\n",
    "# Save the dataset to another csv file (WRITE)\n",
    "carfeatures.to_csv(\"data/features_stored.csv\")\n"
   ]
  },
  {
   "attachments": {},
   "cell_type": "markdown",
   "metadata": {},
   "source": [
    "<font size = \"5\">\n",
    "\n",
    "Read/write from Stata (\".dta\")"
   ]
  },
  {
   "cell_type": "code",
   "execution_count": 3,
   "metadata": {},
   "outputs": [],
   "source": [
    "# Read a Stata file\n",
    "carfeatures = pd.read_stata(\"data/features.dta\")\n",
    "\n",
    "# Write a stata file\n",
    "carfeatures.to_stata(\"data/features_stored.dta\")"
   ]
  },
  {
   "attachments": {},
   "cell_type": "markdown",
   "metadata": {},
   "source": [
    "<font size = \"5\">\n",
    "\n",
    "Read/write from Excel (\".xlsx\")"
   ]
  },
  {
   "cell_type": "code",
   "execution_count": 4,
   "metadata": {},
   "outputs": [],
   "source": [
    "#  Read\n",
    "carfeatures = pd.read_excel(\"data/features.xlsx\")\n",
    "\n",
    "# Write \n",
    "carfeatures.to_excel(\"data/features_stored.xlsx\")\n",
    "\n",
    "# Note: If the information is contained in a specifc sheet of the excel file\n",
    "# carfeatures = pd.read_excel(\"data/features.csv\",sheet_name = \"Sheet1\")\n"
   ]
  },
  {
   "attachments": {},
   "cell_type": "markdown",
   "metadata": {},
   "source": [
    "## <span style=\"color:darkblue\"> III. Quiz Structure </span>\n",
    "\n",
    "<font size = \"5\">\n",
    "\n",
    "The day of the quiz I will ...\n",
    "- Provide different datasets with yearly data\n",
    "- Give more specific instructions.\n",
    "- Below, you will see that type of questions that will be asked.\n",
    "- The idea is for you to apply known concepts to new data\n",
    "- You have 50 minutes to complete the assignment\n",
    "\n",
    "Questions\n",
    "\n",
    "(exact wording may change in quiz, but exercise will be very similar)\n"
   ]
  },
  {
   "attachments": {},
   "cell_type": "markdown",
   "metadata": {},
   "source": [
    "<font size = \"5\">\n",
    "\n",
    "(a) Create two normal random variables ...\n",
    "\n",
    "\n",
    "- Call them \"vec_x\" and \"vec_z\"\n",
    "- To generate each variable, use loc = 2, scale = 5, size = 1000\n",
    "- Plot a histogram of each variable\n",
    "    - Label the axes and title\n",
    "    - Each graph should have a different title\n",
    " \n",
    "To get full points, plot the histograms on a grid (See Lecture 6)"
   ]
  },
  {
   "cell_type": "code",
   "execution_count": 5,
   "metadata": {},
   "outputs": [
    {
     "data": {
      "text/plain": [
       "Text(619.9949494949494, 0.5, 'Frequency')"
      ]
     },
     "execution_count": 5,
     "metadata": {},
     "output_type": "execute_result"
    },
    {
     "data": {
      "image/png": "[encoded data removed]",
      "text/plain": [
       "<Figure size 1200x300 with 2 Axes>"
      ]
     },
     "metadata": {},
     "output_type": "display_data"
    }
   ],
   "source": [
    "vec_x = np.random.normal(loc = 2, scale = 5, size = 1000)\n",
    "vec_z = np.random.normal(loc = 2, scale = 5, size = 1000)\n",
    "\n",
    "fig, list_subfig = plt.subplots(1,2, figsize = (12,3))\n",
    "\n",
    "plt.tight_layout()\n",
    "\n",
    "list_subfig[0].hist(x = vec_x)\n",
    "list_subfig[0].set_title(\"vec_x\")\n",
    "list_subfig[0].set_xlabel(\"Variable x\")\n",
    "list_subfig[0].set_ylabel(\"Frequency\")\n",
    "\n",
    "list_subfig[1].hist(x = vec_z)\n",
    "list_subfig[1].set_title(\"vec_z\")\n",
    "list_subfig[1].set_xlabel(\"Variable x\")\n",
    "list_subfig[1].set_ylabel(\"Frequency\")\n",
    "\n"
   ]
  },
  {
   "attachments": {},
   "cell_type": "markdown",
   "metadata": {},
   "source": [
    "<font size = \"5\">\n",
    "\n",
    "(b) Create a new variable \"vec_y\" by the formula\n",
    "\n",
    "$ y = x^2 + 2x + 5$\n",
    "\n",
    "- Use element-by-element vector multiplicaiton (no loops)\n",
    "- Produce a scatter plot of \"vec_y\" against \"vec_x\"\n",
    "- Label the axes and the title\n",
    "- Change the color to \"red\", \"green\" or \"purple\" (you choose)\n"
   ]
  },
  {
   "cell_type": "code",
   "execution_count": 6,
   "metadata": {},
   "outputs": [
    {
     "data": {
      "text/plain": [
       "Text(0.5, 1.0, 'scatter plot')"
      ]
     },
     "execution_count": 6,
     "metadata": {},
     "output_type": "execute_result"
    },
    {
     "data": {
      "image/png": "[encoded data removed]",
      "text/plain": [
       "<Figure size 640x480 with 1 Axes>"
      ]
     },
     "metadata": {},
     "output_type": "display_data"
    }
   ],
   "source": [
    "vec_y = (vec_x ** 2) + (2 * vec_x) + 5\n",
    "\n",
    "plt.scatter(x = vec_y, y = vec_x, color = \"red\")\n",
    "plt.xlabel(\"x\")\n",
    "plt.ylabel(\"Frequency\")\n",
    "plt.title(\"scatter plot\")"
   ]
  },
  {
   "attachments": {},
   "cell_type": "markdown",
   "metadata": {},
   "source": [
    "<font size = \"5\">\n",
    "\n",
    "(c) Creates two lists with ...\n",
    "\n",
    "- The names of the datasets\n",
    "- The years of the datasets (type manually based on the dataset names)"
   ]
  },
  {
   "cell_type": "code",
   "execution_count": 43,
   "metadata": {},
   "outputs": [
    {
     "data": {
      "text/plain": [
       "0      2000\n",
       "1      2000\n",
       "2      2000\n",
       "3      2000\n",
       "4      2000\n",
       "       ... \n",
       "261    2000\n",
       "262    2000\n",
       "263    2000\n",
       "264    2000\n",
       "265    2000\n",
       "Name: year, Length: 266, dtype: int64"
      ]
     },
     "execution_count": 43,
     "metadata": {},
     "output_type": "execute_result"
    }
   ],
   "source": [
    "\n",
    "wdi_2000 = pd.read_csv('/Users/ikkikaijima/Documents/SPRING 2023/QTM 151/Assignments/Assignment 4/wdi_data/wdi_2000.csv')\n",
    "wdi_2020 = pd.read_csv('/Users/ikkikaijima/Documents/SPRING 2023/QTM 151/Assignments/Assignment 4/wdi_data/wdi_2020.csv')\n",
    "wdi_2000.year\n"
   ]
  },
  {
   "attachments": {},
   "cell_type": "markdown",
   "metadata": {},
   "source": [
    "<font size = \"5\">\n",
    "\n",
    "(d) Create a loop that ...\n",
    "\n",
    "\n",
    "- Goes over the list of years\n",
    "- If the year $\\ge$ 2010, print the message\n",
    "\n",
    "$\\qquad$ \"This dataset contains information on or after 2010.\n",
    "\n",
    "- If the year $<$ 2010, print the message\n",
    "\n",
    "$\\qquad$ \"This dataset contains information before 2010\""
   ]
  },
  {
   "cell_type": "code",
   "execution_count": 38,
   "metadata": {},
   "outputs": [
    {
     "name": "stdout",
     "output_type": "stream",
     "text": [
      "This dataset contains information before 2010\n",
      "This dataset contains information before 2010\n",
      "This dataset contains information before 2010\n",
      "This dataset contains information before 2010\n",
      "This dataset contains information before 2010\n",
      "This dataset contains information before 2010\n",
      "This dataset contains information before 2010\n",
      "This dataset contains information before 2010\n",
      "This dataset contains information before 2010\n",
      "This dataset contains information before 2010\n",
      "This dataset contains information before 2010\n",
      "This dataset contains information before 2010\n",
      "This dataset contains information before 2010\n",
      "This dataset contains information before 2010\n",
      "This dataset contains information before 2010\n",
      "This dataset contains information before 2010\n",
      "This dataset contains information before 2010\n",
      "This dataset contains information before 2010\n",
      "This dataset contains information before 2010\n",
      "This dataset contains information before 2010\n",
      "This dataset contains information before 2010\n",
      "This dataset contains information before 2010\n",
      "This dataset contains information before 2010\n",
      "This dataset contains information before 2010\n",
      "This dataset contains information before 2010\n",
      "This dataset contains information before 2010\n",
      "This dataset contains information before 2010\n",
      "This dataset contains information before 2010\n",
      "This dataset contains information before 2010\n",
      "This dataset contains information before 2010\n",
      "This dataset contains information before 2010\n",
      "This dataset contains information before 2010\n",
      "This dataset contains information before 2010\n",
      "This dataset contains information before 2010\n",
      "This dataset contains information before 2010\n",
      "This dataset contains information before 2010\n",
      "This dataset contains information before 2010\n",
      "This dataset contains information before 2010\n",
      "This dataset contains information before 2010\n",
      "This dataset contains information before 2010\n",
      "This dataset contains information before 2010\n",
      "This dataset contains information before 2010\n",
      "This dataset contains information before 2010\n",
      "This dataset contains information before 2010\n",
      "This dataset contains information before 2010\n",
      "This dataset contains information before 2010\n",
      "This dataset contains information before 2010\n",
      "This dataset contains information before 2010\n",
      "This dataset contains information before 2010\n",
      "This dataset contains information before 2010\n",
      "This dataset contains information before 2010\n",
      "This dataset contains information before 2010\n",
      "This dataset contains information before 2010\n",
      "This dataset contains information before 2010\n",
      "This dataset contains information before 2010\n",
      "This dataset contains information before 2010\n",
      "This dataset contains information before 2010\n",
      "This dataset contains information before 2010\n",
      "This dataset contains information before 2010\n",
      "This dataset contains information before 2010\n",
      "This dataset contains information before 2010\n",
      "This dataset contains information before 2010\n",
      "This dataset contains information before 2010\n",
      "This dataset contains information before 2010\n",
      "This dataset contains information before 2010\n",
      "This dataset contains information before 2010\n",
      "This dataset contains information before 2010\n",
      "This dataset contains information before 2010\n",
      "This dataset contains information before 2010\n",
      "This dataset contains information before 2010\n",
      "This dataset contains information before 2010\n",
      "This dataset contains information before 2010\n",
      "This dataset contains information before 2010\n",
      "This dataset contains information before 2010\n",
      "This dataset contains information before 2010\n",
      "This dataset contains information before 2010\n",
      "This dataset contains information before 2010\n",
      "This dataset contains information before 2010\n",
      "This dataset contains information before 2010\n",
      "This dataset contains information before 2010\n",
      "This dataset contains information before 2010\n",
      "This dataset contains information before 2010\n",
      "This dataset contains information before 2010\n",
      "This dataset contains information before 2010\n",
      "This dataset contains information before 2010\n",
      "This dataset contains information before 2010\n",
      "This dataset contains information before 2010\n",
      "This dataset contains information before 2010\n",
      "This dataset contains information before 2010\n",
      "This dataset contains information before 2010\n",
      "This dataset contains information before 2010\n",
      "This dataset contains information before 2010\n",
      "This dataset contains information before 2010\n",
      "This dataset contains information before 2010\n",
      "This dataset contains information before 2010\n",
      "This dataset contains information before 2010\n",
      "This dataset contains information before 2010\n",
      "This dataset contains information before 2010\n",
      "This dataset contains information before 2010\n",
      "This dataset contains information before 2010\n",
      "This dataset contains information before 2010\n",
      "This dataset contains information before 2010\n",
      "This dataset contains information before 2010\n",
      "This dataset contains information before 2010\n",
      "This dataset contains information before 2010\n",
      "This dataset contains information before 2010\n",
      "This dataset contains information before 2010\n",
      "This dataset contains information before 2010\n",
      "This dataset contains information before 2010\n",
      "This dataset contains information before 2010\n",
      "This dataset contains information before 2010\n",
      "This dataset contains information before 2010\n",
      "This dataset contains information before 2010\n",
      "This dataset contains information before 2010\n",
      "This dataset contains information before 2010\n",
      "This dataset contains information before 2010\n",
      "This dataset contains information before 2010\n",
      "This dataset contains information before 2010\n",
      "This dataset contains information before 2010\n",
      "This dataset contains information before 2010\n",
      "This dataset contains information before 2010\n",
      "This dataset contains information before 2010\n",
      "This dataset contains information before 2010\n",
      "This dataset contains information before 2010\n",
      "This dataset contains information before 2010\n",
      "This dataset contains information before 2010\n",
      "This dataset contains information before 2010\n",
      "This dataset contains information before 2010\n",
      "This dataset contains information before 2010\n",
      "This dataset contains information before 2010\n",
      "This dataset contains information before 2010\n",
      "This dataset contains information before 2010\n",
      "This dataset contains information before 2010\n",
      "This dataset contains information before 2010\n",
      "This dataset contains information before 2010\n",
      "This dataset contains information before 2010\n",
      "This dataset contains information before 2010\n",
      "This dataset contains information before 2010\n",
      "This dataset contains information before 2010\n",
      "This dataset contains information before 2010\n",
      "This dataset contains information before 2010\n",
      "This dataset contains information before 2010\n",
      "This dataset contains information before 2010\n",
      "This dataset contains information before 2010\n",
      "This dataset contains information before 2010\n",
      "This dataset contains information before 2010\n",
      "This dataset contains information before 2010\n",
      "This dataset contains information before 2010\n",
      "This dataset contains information before 2010\n",
      "This dataset contains information before 2010\n",
      "This dataset contains information before 2010\n",
      "This dataset contains information before 2010\n",
      "This dataset contains information before 2010\n",
      "This dataset contains information before 2010\n",
      "This dataset contains information before 2010\n",
      "This dataset contains information before 2010\n",
      "This dataset contains information before 2010\n",
      "This dataset contains information before 2010\n",
      "This dataset contains information before 2010\n",
      "This dataset contains information before 2010\n",
      "This dataset contains information before 2010\n",
      "This dataset contains information before 2010\n",
      "This dataset contains information before 2010\n",
      "This dataset contains information before 2010\n",
      "This dataset contains information before 2010\n",
      "This dataset contains information before 2010\n",
      "This dataset contains information before 2010\n",
      "This dataset contains information before 2010\n",
      "This dataset contains information before 2010\n",
      "This dataset contains information before 2010\n",
      "This dataset contains information before 2010\n",
      "This dataset contains information before 2010\n",
      "This dataset contains information before 2010\n",
      "This dataset contains information before 2010\n",
      "This dataset contains information before 2010\n",
      "This dataset contains information before 2010\n",
      "This dataset contains information before 2010\n",
      "This dataset contains information before 2010\n",
      "This dataset contains information before 2010\n",
      "This dataset contains information before 2010\n",
      "This dataset contains information before 2010\n",
      "This dataset contains information before 2010\n",
      "This dataset contains information before 2010\n",
      "This dataset contains information before 2010\n",
      "This dataset contains information before 2010\n",
      "This dataset contains information before 2010\n",
      "This dataset contains information before 2010\n",
      "This dataset contains information before 2010\n",
      "This dataset contains information before 2010\n",
      "This dataset contains information before 2010\n",
      "This dataset contains information before 2010\n",
      "This dataset contains information before 2010\n",
      "This dataset contains information before 2010\n",
      "This dataset contains information before 2010\n",
      "This dataset contains information before 2010\n",
      "This dataset contains information before 2010\n",
      "This dataset contains information before 2010\n",
      "This dataset contains information before 2010\n",
      "This dataset contains information before 2010\n",
      "This dataset contains information before 2010\n",
      "This dataset contains information before 2010\n",
      "This dataset contains information before 2010\n",
      "This dataset contains information before 2010\n",
      "This dataset contains information before 2010\n",
      "This dataset contains information before 2010\n",
      "This dataset contains information before 2010\n",
      "This dataset contains information before 2010\n",
      "This dataset contains information before 2010\n",
      "This dataset contains information before 2010\n",
      "This dataset contains information before 2010\n",
      "This dataset contains information before 2010\n",
      "This dataset contains information before 2010\n",
      "This dataset contains information before 2010\n",
      "This dataset contains information before 2010\n",
      "This dataset contains information before 2010\n",
      "This dataset contains information before 2010\n",
      "This dataset contains information before 2010\n",
      "This dataset contains information before 2010\n",
      "This dataset contains information before 2010\n",
      "This dataset contains information before 2010\n",
      "This dataset contains information before 2010\n",
      "This dataset contains information before 2010\n",
      "This dataset contains information before 2010\n",
      "This dataset contains information before 2010\n",
      "This dataset contains information before 2010\n",
      "This dataset contains information before 2010\n",
      "This dataset contains information before 2010\n",
      "This dataset contains information before 2010\n",
      "This dataset contains information before 2010\n",
      "This dataset contains information before 2010\n",
      "This dataset contains information before 2010\n",
      "This dataset contains information before 2010\n",
      "This dataset contains information before 2010\n",
      "This dataset contains information before 2010\n",
      "This dataset contains information before 2010\n",
      "This dataset contains information before 2010\n",
      "This dataset contains information before 2010\n",
      "This dataset contains information before 2010\n",
      "This dataset contains information before 2010\n",
      "This dataset contains information before 2010\n",
      "This dataset contains information before 2010\n",
      "This dataset contains information before 2010\n",
      "This dataset contains information before 2010\n",
      "This dataset contains information before 2010\n",
      "This dataset contains information before 2010\n",
      "This dataset contains information before 2010\n",
      "This dataset contains information before 2010\n",
      "This dataset contains information before 2010\n",
      "This dataset contains information before 2010\n",
      "This dataset contains information before 2010\n",
      "This dataset contains information before 2010\n",
      "This dataset contains information before 2010\n",
      "This dataset contains information before 2010\n",
      "This dataset contains information before 2010\n",
      "This dataset contains information before 2010\n",
      "This dataset contains information before 2010\n",
      "This dataset contains information before 2010\n",
      "This dataset contains information before 2010\n",
      "This dataset contains information before 2010\n",
      "This dataset contains information before 2010\n",
      "This dataset contains information before 2010\n",
      "This dataset contains information before 2010\n",
      "This dataset contains information before 2010\n",
      "This dataset contains information before 2010\n",
      "This dataset contains information before 2010\n",
      "This dataset contains information before 2010\n"
     ]
    }
   ],
   "source": [
    "for i in wdi_2000.year:\n",
    "    if i >= 2010:\n",
    "        print(\"This dataset contains informtion on or after 2010\")\n",
    "    else:\n",
    "        print(\"This dataset contains information before 2010\")\n",
    "\n"
   ]
  },
  {
   "attachments": {},
   "cell_type": "markdown",
   "metadata": {},
   "source": [
    "<font size = \"5\">\n",
    "\n",
    "(e) Create a for loop that ...\n",
    "\n",
    "- Reads multiple \".csv\" files and\n",
    "- Converts them to \".xlsx\" files\n",
    "- Note: Make sure to know how to read/write in subfolders\n",
    "\n",
    "Hint: Create a new list with the \".xslx\" names and use a for loop with numbering"
   ]
  },
  {
   "cell_type": "code",
   "execution_count": 44,
   "metadata": {},
   "outputs": [],
   "source": [
    "# Import a CSV file (READ)\n",
    "files_list = [\"data/features.csv\", \"data/features_stored.csv\"]\n",
    "files_newlist= \n",
    "# Save the dataset to another csv file (WRITE)\n",
    "counter = 0\n",
    "for i in files_list:\n",
    "    file = pd.read_csv(str(i))\n",
    "    file.to_excel(\"data/features_new\" + str(counter) + \".xlsx\")\n",
    "    counter+1"
   ]
  },
  {
   "attachments": {},
   "cell_type": "markdown",
   "metadata": {},
   "source": [
    "<font size = \"5\">\n",
    "\n",
    "(f) Create a loop that ...\n",
    "\n",
    "- Reads multiple \".csv\" files\n",
    "- Creates a numeric vector by \n",
    "    - Adding/Subtracting/Mutiplying/Diving two or more variables \n",
    "- Plots a histogram of the transformed variable\n",
    "    - Numbers the figures\n",
    "    - Labels the axes\n",
    "    - Labels the title"
   ]
  }
 ],
 "metadata": {
  "kernelspec": {
   "display_name": "Python 3",
   "language": "python",
   "name": "python3"
  },
  "language_info": {
   "codemirror_mode": {
    "name": "ipython",
    "version": 3
   },
   "file_extension": ".py",
   "mimetype": "text/x-python",
   "name": "python",
   "nbconvert_exporter": "python",
   "pygments_lexer": "ipython3",
   "version": "3.11.1"
  },
  "orig_nbformat": 4,
  "vscode": {
   "interpreter": {
    "hash": "aee8b7b246df8f9039afb4144a1f6fd8d2ca17a180786b69acc140d282b71a49"
   }
  }
 },
 "nbformat": 4,
 "nbformat_minor": 2
}
